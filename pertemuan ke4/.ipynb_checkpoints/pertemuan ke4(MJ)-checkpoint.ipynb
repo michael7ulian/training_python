{
 "cells": [
  {
   "cell_type": "code",
   "execution_count": 87,
   "metadata": {},
   "outputs": [
    {
     "name": "stdout",
     "output_type": "stream",
     "text": [
      "['Tailin', 'Abu Dhabi', 'Jakarta', 'Prague']\n",
      "Abu Dhabi\n",
      "['Tailin', 'Abu Dhabi']\n",
      "Jakarta\n"
     ]
    },
    {
     "ename": "IndexError",
     "evalue": "list assignment index out of range",
     "output_type": "error",
     "traceback": [
      "\u001b[0;31m---------------------------------------------------------------------------\u001b[0m",
      "\u001b[0;31mIndexError\u001b[0m                                Traceback (most recent call last)",
      "\u001b[0;32m<ipython-input-87-cb8b53aae524>\u001b[0m in \u001b[0;36m<module>\u001b[0;34m\u001b[0m\n\u001b[1;32m      5\u001b[0m \u001b[0mprint\u001b[0m\u001b[0;34m(\u001b[0m\u001b[0mmyList\u001b[0m\u001b[0;34m[\u001b[0m\u001b[0;36m0\u001b[0m\u001b[0;34m:\u001b[0m\u001b[0;36m2\u001b[0m\u001b[0;34m]\u001b[0m\u001b[0;34m)\u001b[0m\u001b[0;34m\u001b[0m\u001b[0;34m\u001b[0m\u001b[0m\n\u001b[1;32m      6\u001b[0m \u001b[0mprint\u001b[0m\u001b[0;34m(\u001b[0m\u001b[0mmyList\u001b[0m\u001b[0;34m[\u001b[0m\u001b[0;34m-\u001b[0m\u001b[0;36m2\u001b[0m\u001b[0;34m]\u001b[0m\u001b[0;34m)\u001b[0m\u001b[0;34m\u001b[0m\u001b[0;34m\u001b[0m\u001b[0m\n\u001b[0;32m----> 7\u001b[0;31m \u001b[0mmyList\u001b[0m\u001b[0;34m[\u001b[0m\u001b[0;36m4\u001b[0m\u001b[0;34m]\u001b[0m \u001b[0;34m=\u001b[0m\u001b[0;34m[\u001b[0m\u001b[0;34m'Australia'\u001b[0m\u001b[0;34m]\u001b[0m\u001b[0;34m\u001b[0m\u001b[0;34m\u001b[0m\u001b[0m\n\u001b[0m\u001b[1;32m      8\u001b[0m \u001b[0mprint\u001b[0m\u001b[0;34m(\u001b[0m\u001b[0mmyList\u001b[0m\u001b[0;34m)\u001b[0m\u001b[0;34m\u001b[0m\u001b[0;34m\u001b[0m\u001b[0m\n",
      "\u001b[0;31mIndexError\u001b[0m: list assignment index out of range"
     ]
    }
   ],
   "source": [
    "myList = ['Tailin','Abu Dhabi', 'Jakarta', 'Prague']\n",
    "print(myList)\n",
    "print(myList[1])\n",
    "\n",
    "print(myList[0:2])\n",
    "print(myList[-2])\n",
    "print(myList)\n"
   ]
  },
  {
   "cell_type": "code",
   "execution_count": 11,
   "metadata": {},
   "outputs": [
    {
     "ename": "IndexError",
     "evalue": "list assignment index out of range",
     "output_type": "error",
     "traceback": [
      "\u001b[0;31m---------------------------------------------------------------------------\u001b[0m",
      "\u001b[0;31mIndexError\u001b[0m                                Traceback (most recent call last)",
      "\u001b[0;32m<ipython-input-11-43298b665bb9>\u001b[0m in \u001b[0;36m<module>\u001b[0;34m\u001b[0m\n\u001b[0;32m----> 1\u001b[0;31m \u001b[0;32mdel\u001b[0m \u001b[0mmyList\u001b[0m\u001b[0;34m[\u001b[0m\u001b[0;36m3\u001b[0m\u001b[0;34m]\u001b[0m\u001b[0;34m\u001b[0m\u001b[0;34m\u001b[0m\u001b[0m\n\u001b[0m\u001b[1;32m      2\u001b[0m \u001b[0mprint\u001b[0m\u001b[0;34m(\u001b[0m\u001b[0mmyList\u001b[0m\u001b[0;34m)\u001b[0m\u001b[0;34m\u001b[0m\u001b[0;34m\u001b[0m\u001b[0m\n",
      "\u001b[0;31mIndexError\u001b[0m: list assignment index out of range"
     ]
    }
   ],
   "source": [
    "del myList[3]\n",
    "print(myList)"
   ]
  },
  {
   "cell_type": "code",
   "execution_count": 12,
   "metadata": {},
   "outputs": [
    {
     "name": "stdout",
     "output_type": "stream",
     "text": [
      "Tailin\n",
      "Abu Dhabi\n",
      "Jakarta\n"
     ]
    }
   ],
   "source": [
    "for c in myList:\n",
    "    print(c)"
   ]
  },
  {
   "cell_type": "code",
   "execution_count": 27,
   "metadata": {},
   "outputs": [
    {
     "name": "stdout",
     "output_type": "stream",
     "text": [
      "['Tailin', 'Bandung', 'Jakarta']\n"
     ]
    }
   ],
   "source": [
    "myList[1] = 'Bandung'\n",
    "print(myList)"
   ]
  },
  {
   "cell_type": "markdown",
   "metadata": {},
   "source": [
    "Dictionary"
   ]
  },
  {
   "cell_type": "code",
   "execution_count": 97,
   "metadata": {},
   "outputs": [
    {
     "name": "stdout",
     "output_type": "stream",
     "text": [
      "{'nama': 'Rima', 'kelas': '2 SD', 'alamat': 'Jogja'}\n",
      "Rima\n",
      "Rima\n",
      "nama\n",
      "('nama', 'Rima')\n",
      "3\n",
      "nama: Rima\n",
      "kelas: 2 SD\n",
      "alamat: Jogja\n",
      "\n",
      "\n",
      "nama: Rima\n",
      "kelas: 2 SD\n",
      "alamat: Jogja\n",
      "\n",
      "nama: Ali\n",
      "kelas: 2 SD\n",
      "alamat: Jogja\n",
      "\n",
      "nama: Eli\n",
      "kelas: 2 SD\n",
      "alamat: Jogja\n"
     ]
    }
   ],
   "source": [
    "bio = {\"nama\": \"Rima\", \"kelas\":\"2 SD\", 'alamat':'Jogja'}\n",
    "print(bio)\n",
    "\n",
    "users= {\n",
    "    1: {\"nama\": \"Rima\", \"kelas\":\"2 SD\", 'alamat':'Jogja'},\n",
    "    2: {\"nama\": \"Ali\", \"kelas\":\"2 SD\", 'alamat':'Jogja'},\n",
    "    3: {\"nama\": \"Eli\", \"kelas\":\"2 SD\", 'alamat':'Jogja'}\n",
    "}\n",
    "\n",
    "print(bio['nama'])\n",
    "print(list(bio.values())[0])\n",
    "print(list(bio.keys())[0])\n",
    "print(list(bio.items())[0])\n",
    "print(len(bio))\n",
    "\n",
    "for key, value in bio.items():\n",
    "    print(key, value, sep = \": \")\n",
    "\n",
    "print()    \n",
    "\n",
    "for key, value in users.items():\n",
    "    print()\n",
    "    for key2 in users[key]:\n",
    "        print(key2, value[key2], sep= \": \")\n",
    "\n",
    "    "
   ]
  },
  {
   "cell_type": "code",
   "execution_count": 77,
   "metadata": {},
   "outputs": [
    {
     "name": "stdout",
     "output_type": "stream",
     "text": [
      "nama: Rima\n",
      "kelas: 2 SD\n",
      "alamat: Jogja\n"
     ]
    }
   ],
   "source": [
    "def myfun(**fruits):\n",
    "    for e,v in fruits.items():\n",
    "        print(e,v,sep=': ')\n",
    "        \n",
    "keyword = {\"nama\": \"Rima\", \"kelas\":\"2 SD\", 'alamat':'Jogja'}\n",
    "myfun(**keyword)"
   ]
  },
  {
   "cell_type": "code",
   "execution_count": 88,
   "metadata": {},
   "outputs": [
    {
     "name": "stdout",
     "output_type": "stream",
     "text": [
      "niali-2\n",
      "('nilai-1', 'niali-2')\n"
     ]
    }
   ],
   "source": [
    "tuple = ('nilai-1','niali-2')\n",
    "print(tuple[1])\n",
    "print(tuple[:4])"
   ]
  },
  {
   "cell_type": "code",
   "execution_count": null,
   "metadata": {},
   "outputs": [],
   "source": [
    "def func(*ucapan):\n",
    "    input_jam = int(input(\"masukan pukul berapa sekarang\"))\n",
    "    while (input_jam > 5 and input_jam <= 11):\n",
    "        print(ucapan[0], ucapan[1], sep = \", \")\n",
    "    while (input_jam > 11 and input_jam <= 15):\n",
    "        print(ucapan[0], ucapan[2], sep = \", \")\n",
    "        break\n",
    "    while (input_jam > 16  and input_jam <= 18):\n",
    "        print(ucapan[0], ucapan[3], sep = \", \")\n",
    "        break\n",
    "    while (input_jam > 18  and input_jam <= 5):\n",
    "        print(ucapan[0], ucapan[4], sep = \", \")\n",
    "        break\n",
    "func(\"Halo\", \"selamat pagi\",\"selamat siang\", \"selamat sore\",\"selamat malam\")\n"
   ]
  },
  {
   "cell_type": "code",
   "execution_count": 3,
   "metadata": {},
   "outputs": [
    {
     "name": "stdout",
     "output_type": "stream",
     "text": [
      "<class 'set'>\n"
     ]
    }
   ],
   "source": [
    "maset = {'bangkok','Kuala Lumpur','Islandia','Skotlandia'}\n",
    "print(type(maset))"
   ]
  },
  {
   "cell_type": "code",
   "execution_count": 7,
   "metadata": {},
   "outputs": [
    {
     "name": "stdout",
     "output_type": "stream",
     "text": [
      "{'Islandia', 'Kuala Lumpur', 'bangkok', 'Skotlandia'}\n"
     ]
    }
   ],
   "source": [
    "print(maset)"
   ]
  },
  {
   "cell_type": "code",
   "execution_count": null,
   "metadata": {},
   "outputs": [],
   "source": []
  },
  {
   "cell_type": "markdown",
   "metadata": {},
   "source": []
  }
 ],
 "metadata": {
  "kernelspec": {
   "display_name": "Python 3",
   "language": "python",
   "name": "python3"
  },
  "language_info": {
   "codemirror_mode": {
    "name": "ipython",
    "version": 3
   },
   "file_extension": ".py",
   "mimetype": "text/x-python",
   "name": "python",
   "nbconvert_exporter": "python",
   "pygments_lexer": "ipython3",
   "version": "3.8.3"
  }
 },
 "nbformat": 4,
 "nbformat_minor": 4
}
