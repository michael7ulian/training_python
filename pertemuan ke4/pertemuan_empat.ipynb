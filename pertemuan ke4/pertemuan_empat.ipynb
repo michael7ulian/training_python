{
 "metadata": {
  "language_info": {
   "codemirror_mode": {
    "name": "ipython",
    "version": 3
   },
   "file_extension": ".py",
   "mimetype": "text/x-python",
   "name": "python",
   "nbconvert_exporter": "python",
   "pygments_lexer": "ipython3",
   "version": 3
  },
  "orig_nbformat": 2
 },
 "nbformat": 4,
 "nbformat_minor": 2,
 "cells": [
  {
   "source": [
    "# Pertemuan ke 4"
   ],
   "cell_type": "markdown",
   "metadata": {}
  },
  {
   "source": [
    "## Menggabungkan Kondisi"
   ],
   "cell_type": "markdown",
   "metadata": {}
  },
  {
   "source": [
    "### And"
   ],
   "cell_type": "markdown",
   "metadata": {}
  },
  {
   "cell_type": "code",
   "execution_count": 12,
   "metadata": {
    "tags": []
   },
   "outputs": [
    {
     "output_type": "stream",
     "name": "stdout",
     "text": [
      "Anda tinggal kelas!\n"
     ]
    }
   ],
   "source": [
    "masuk = 8\n",
    "max = 11\n",
    "inputJamMasuk = int(input(\"Anda Masuk Pukul Berapa? \"))\n",
    "\n",
    "while (inputJamMasuk<masuk):\n",
    "    print(\"Anda terlalu cepat datang\")\n",
    "    break\n",
    "while (inputJamMasuk==masuk):\n",
    "    print(\"Anda datang tepat waktu\")\n",
    "    break\n",
    "# while (inputJamMasuk>masuk and inputJamMasuk <= max):\n",
    "while (inputJamMasuk>masuk>max):\n",
    "    print(\"Anda terlambat, jangan ulangi lagi\")\n",
    "    break\n",
    "while (inputJamMasuk>max):\n",
    "    print(\"Anda tinggal kelas!\")\n",
    "    break"
   ]
  },
  {
   "cell_type": "code",
   "execution_count": 14,
   "metadata": {},
   "outputs": [
    {
     "output_type": "stream",
     "name": "stdout",
     "text": [
      "False\n"
     ]
    }
   ],
   "source": [
    "a = 11\n",
    "b = 23\n",
    "c = 99\n",
    "\n",
    "print(a<b and c<b)"
   ]
  },
  {
   "source": [
    "### Or"
   ],
   "cell_type": "markdown",
   "metadata": {}
  },
  {
   "cell_type": "code",
   "execution_count": 16,
   "metadata": {},
   "outputs": [
    {
     "output_type": "stream",
     "name": "stdout",
     "text": [
      "True\n"
     ]
    }
   ],
   "source": [
    "print(a<b or c<b)"
   ]
  },
  {
   "source": [
    "### Not"
   ],
   "cell_type": "markdown",
   "metadata": {}
  },
  {
   "cell_type": "code",
   "execution_count": 24,
   "metadata": {},
   "outputs": [
    {
     "output_type": "stream",
     "name": "stdout",
     "text": [
      "Gagal login\n"
     ]
    }
   ],
   "source": [
    "sandi = \"halo123\"\n",
    "input_pw = input(\"Masukkan sandi kamu!: \")\n",
    "while (input_pw == sandi):\n",
    "    print(\"Berhasil login\")\n",
    "    break\n",
    "while input_pw != sandi:\n",
    "    print(\"Gagal login\")\n",
    "    break"
   ]
  },
  {
   "source": [
    "## Random Module"
   ],
   "cell_type": "markdown",
   "metadata": {}
  },
  {
   "cell_type": "code",
   "execution_count": 85,
   "metadata": {},
   "outputs": [
    {
     "output_type": "stream",
     "name": "stdout",
     "text": [
      "0\n9\n"
     ]
    }
   ],
   "source": [
    "from random import randint, randrange\n",
    "\n",
    "nilaiRandom = randint(0, 10)\n",
    "print(nilaiRandom)\n",
    "nilaiRandrange = randrange(0, 10, 3)\n",
    "print(nilaiRandrange)"
   ]
  },
  {
   "source": [
    "## Data Types [2]"
   ],
   "cell_type": "markdown",
   "metadata": {}
  },
  {
   "source": [
    "### List"
   ],
   "cell_type": "markdown",
   "metadata": {}
  },
  {
   "cell_type": "code",
   "execution_count": 88,
   "metadata": {},
   "outputs": [
    {
     "output_type": "stream",
     "name": "stdout",
     "text": [
      "<class 'list'>\n['Tallin', 'Jakarta', 'Abu Dhabi', 'Prague']\n"
     ]
    }
   ],
   "source": [
    "myList = ['Tallin', 'Jakarta', 'Abu Dhabi', 'Prague']\n",
    "print(type(myList))\n",
    "print(myList)"
   ]
  },
  {
   "cell_type": "code",
   "execution_count": 94,
   "metadata": {},
   "outputs": [
    {
     "output_type": "stream",
     "name": "stdout",
     "text": [
      "['Tallin', 'Jakarta']\nPrague\nAbu Dhabi\n"
     ]
    }
   ],
   "source": [
    "# memanggil per elemen\n",
    "print(myList[0:2])\n",
    "print(myList[-1])\n",
    "print(myList[-2])"
   ]
  },
  {
   "cell_type": "code",
   "execution_count": 96,
   "metadata": {},
   "outputs": [
    {
     "output_type": "stream",
     "name": "stdout",
     "text": [
      "['Tallin', 'Jakarta', 'Abu Dhabi', 'Prague', 'Zurich', 'Zurich']\n"
     ]
    }
   ],
   "source": [
    "# Menambahkan elemen baru di dalam list\n",
    "myList.append(\"Zurich\")\n",
    "print(myList)"
   ]
  },
  {
   "cell_type": "code",
   "execution_count": 99,
   "metadata": {},
   "outputs": [
    {
     "output_type": "stream",
     "name": "stdout",
     "text": [
      "['Tallin', 'Jakarta', 'Abu Dhabi']\n"
     ]
    }
   ],
   "source": [
    "# Menghapus elemen di dalam list\n",
    "del myList[3]\n",
    "print(myList)"
   ]
  },
  {
   "cell_type": "code",
   "execution_count": 101,
   "metadata": {},
   "outputs": [
    {
     "output_type": "stream",
     "name": "stdout",
     "text": [
      "3\n"
     ]
    }
   ],
   "source": [
    "print(len(myList))"
   ]
  },
  {
   "cell_type": "code",
   "execution_count": 102,
   "metadata": {},
   "outputs": [
    {
     "output_type": "stream",
     "name": "stdout",
     "text": [
      "Saya ingin ke Tallin\nSaya ingin ke Jakarta\nSaya ingin ke Abu Dhabi\n"
     ]
    }
   ],
   "source": [
    "# Looping list\n",
    "for c in myList:\n",
    "    print(f\"Saya ingin ke {c}\")"
   ]
  },
  {
   "cell_type": "code",
   "execution_count": 103,
   "metadata": {},
   "outputs": [
    {
     "output_type": "stream",
     "name": "stdout",
     "text": [
      "['Tallin', 'Bandung', 'Abu Dhabi']\n"
     ]
    }
   ],
   "source": [
    "# Mengganti\n",
    "myList[1] = \"Bandung\"\n",
    "print(myList)"
   ]
  },
  {
   "source": [
    "### Dictionary"
   ],
   "cell_type": "markdown",
   "metadata": {}
  },
  {
   "cell_type": "code",
   "execution_count": 106,
   "metadata": {},
   "outputs": [
    {
     "output_type": "stream",
     "name": "stdout",
     "text": [
      "{'Nama': 'Rima', 'Kelas': '1', 'Alamat': 'Jogja'}\n"
     ]
    }
   ],
   "source": [
    "bio = {'Nama': 'Rima', 'Kelas': '1', 'Alamat': 'Jogja'}\n",
    "# print(type(bio))\n",
    "print(bio)"
   ]
  },
  {
   "cell_type": "code",
   "execution_count": 108,
   "metadata": {},
   "outputs": [
    {
     "output_type": "stream",
     "name": "stdout",
     "text": [
      "Rima\n"
     ]
    }
   ],
   "source": [
    "# memanggil elemen/item\n",
    "print(bio[\"Nama\"])"
   ]
  },
  {
   "cell_type": "code",
   "execution_count": 110,
   "metadata": {},
   "outputs": [
    {
     "output_type": "stream",
     "name": "stdout",
     "text": [
      "{'Nama': 'Rima', 'Kelas': '1', 'Alamat': 'Jogja', 'Tinggi': '120'}\n"
     ]
    }
   ],
   "source": [
    "# Menambahkan elemen baru\n",
    "bio['Tinggi'] = '120'\n",
    "print(bio)"
   ]
  },
  {
   "cell_type": "code",
   "execution_count": 112,
   "metadata": {},
   "outputs": [
    {
     "output_type": "stream",
     "name": "stdout",
     "text": [
      "{'Nama': 'Rima', 'Kelas': '1', 'Alamat': 'Jogja', 'Tinggi': '160'}\n"
     ]
    }
   ],
   "source": [
    "# Mengedit elemen\n",
    "bio['Tinggi'] = '160'\n",
    "print(bio)"
   ]
  },
  {
   "cell_type": "code",
   "execution_count": 119,
   "metadata": {},
   "outputs": [
    {
     "output_type": "stream",
     "name": "stdout",
     "text": [
      "Biodata\nNama: Rima\nKelas: 1\nAlamat: Jogja\nTinggi: 160\n"
     ]
    }
   ],
   "source": [
    "## Looping dictionary\n",
    "print(\"Biodata\")\n",
    "for key, value in bio.items():\n",
    "    print(key, value, sep=': ')"
   ]
  },
  {
   "cell_type": "code",
   "execution_count": 121,
   "metadata": {},
   "outputs": [],
   "source": [
    "users = {\n",
    "    1: {\n",
    "        'Nama': 'Rima',\n",
    "        'Umur': '15',\n",
    "        'Alamat': 'Jogja',\n",
    "        'Pekerjaan': 'Siswa SD'\n",
    "    }, \n",
    "    2: {\n",
    "        'Nama': 'Umar',\n",
    "        'Umur': '25',\n",
    "        'Alamat': 'Balikpapan',\n",
    "        'Pekerjaan': 'Data Scientist'\n",
    "    }, \n",
    "    3: {\n",
    "        'Nama': 'Asep',\n",
    "        'Umur': '30',\n",
    "        'Alamat': 'Jayapura',\n",
    "        'Pekerjaan': 'Penerjemah'\n",
    "    }\n",
    "}"
   ]
  },
  {
   "cell_type": "code",
   "execution_count": 123,
   "metadata": {},
   "outputs": [
    {
     "output_type": "stream",
     "name": "stdout",
     "text": [
      "{1: {'Nama': 'Rima', 'Umur': '15', 'Alamat': 'Jogja', 'Pekerjaan': 'Siswa SD'}, 2: {'Nama': 'Umar', 'Umur': '25', 'Alamat': 'Balikpapan', 'Pekerjaan': 'Data Scientist'}, 3: {'Nama': 'Asep', 'Umur': '30', 'Alamat': 'Jayapura', 'Pekerjaan': 'Penerjemah'}}\n"
     ]
    }
   ],
   "source": [
    "print(users)"
   ]
  },
  {
   "cell_type": "code",
   "execution_count": 127,
   "metadata": {},
   "outputs": [
    {
     "output_type": "stream",
     "name": "stdout",
     "text": [
      "{'Nama': 'Rima', 'Umur': '15', 'Alamat': 'Jogja', 'Pekerjaan': 'Siswa SD'}\n"
     ]
    }
   ],
   "source": [
    "print(users[1])"
   ]
  },
  {
   "cell_type": "code",
   "execution_count": 134,
   "metadata": {},
   "outputs": [
    {
     "output_type": "stream",
     "name": "stdout",
     "text": [
      "Nama: Rima\nUmur: 15\nAlamat: Jogja\nPekerjaan: Siswa SD\n\nNama: Umar\nUmur: 25\nAlamat: Balikpapan\nPekerjaan: Data Scientist\n\nNama: Asep\nUmur: 30\nAlamat: Jayapura\nPekerjaan: Penerjemah\n\n"
     ]
    }
   ],
   "source": [
    "for key, value in users.items():\n",
    "    # print(key, value, sep=': ')\n",
    "    for key2 in value:\n",
    "        print(key2, value[key2], sep=': ')\n",
    "    print()"
   ]
  },
  {
   "source": [
    "### kwargs"
   ],
   "cell_type": "markdown",
   "metadata": {}
  },
  {
   "cell_type": "code",
   "execution_count": 144,
   "metadata": {},
   "outputs": [
    {
     "output_type": "stream",
     "name": "stdout",
     "text": [
      "Nama: Rima\nUmur: 10\n"
     ]
    }
   ],
   "source": [
    "def myFun(**fruits):\n",
    "    for e, v in fruits.items():\n",
    "        print(e, v, sep=': ')\n",
    "\n",
    "keyword = {'Nama': 'Rima', 'Umur': '10'}\n",
    "myFun(**keyword)"
   ]
  },
  {
   "source": [
    "## Tuple"
   ],
   "cell_type": "markdown",
   "metadata": {}
  },
  {
   "cell_type": "code",
   "execution_count": 147,
   "metadata": {},
   "outputs": [
    {
     "output_type": "stream",
     "name": "stdout",
     "text": [
      "<class 'tuple'>\n"
     ]
    }
   ],
   "source": [
    "myTup = (\"Borobudur\", \"Piramid\", \"Betlehem\", \"Alpen\")\n",
    "print(type(myTup))"
   ]
  },
  {
   "cell_type": "code",
   "execution_count": 149,
   "metadata": {},
   "outputs": [
    {
     "output_type": "stream",
     "name": "stdout",
     "text": [
      "('Borobudur', 'Piramid', 'Betlehem', 'Alpen')\n"
     ]
    }
   ],
   "source": [
    "print(myTup)"
   ]
  },
  {
   "cell_type": "code",
   "execution_count": 154,
   "metadata": {},
   "outputs": [
    {
     "output_type": "stream",
     "name": "stdout",
     "text": [
      "('Borobudur', 'Piramid', 'Betlehem', 'Alpen')\n"
     ]
    }
   ],
   "source": [
    "print(myTup[0:4])"
   ]
  },
  {
   "cell_type": "code",
   "execution_count": 156,
   "metadata": {},
   "outputs": [
    {
     "output_type": "error",
     "ename": "AttributeError",
     "evalue": "'tuple' object has no attribute 'append'",
     "traceback": [
      "\u001b[0;31m---------------------------------------------------------------------------\u001b[0m",
      "\u001b[0;31mAttributeError\u001b[0m                            Traceback (most recent call last)",
      "\u001b[0;32m<ipython-input-156-2013ee7fbb55>\u001b[0m in \u001b[0;36m<module>\u001b[0;34m\u001b[0m\n\u001b[1;32m      1\u001b[0m \u001b[0;31m# Tambah item baru\u001b[0m\u001b[0;34m\u001b[0m\u001b[0;34m\u001b[0m\u001b[0;34m\u001b[0m\u001b[0m\n\u001b[0;32m----> 2\u001b[0;31m \u001b[0mmyTup\u001b[0m\u001b[0;34m.\u001b[0m\u001b[0mappend\u001b[0m \u001b[0;34m=\u001b[0m \u001b[0;34m\"Jam Gadang\"\u001b[0m\u001b[0;34m\u001b[0m\u001b[0;34m\u001b[0m\u001b[0m\n\u001b[0m",
      "\u001b[0;31mAttributeError\u001b[0m: 'tuple' object has no attribute 'append'"
     ]
    }
   ],
   "source": [
    "# Tambah item baru\n",
    "myTup.append = \"Jam Gadang\""
   ]
  },
  {
   "cell_type": "code",
   "execution_count": 158,
   "metadata": {},
   "outputs": [
    {
     "output_type": "error",
     "ename": "TypeError",
     "evalue": "'tuple' object does not support item assignment",
     "traceback": [
      "\u001b[0;31m---------------------------------------------------------------------------\u001b[0m",
      "\u001b[0;31mTypeError\u001b[0m                                 Traceback (most recent call last)",
      "\u001b[0;32m<ipython-input-158-9776d6ea35ed>\u001b[0m in \u001b[0;36m<module>\u001b[0;34m\u001b[0m\n\u001b[1;32m      1\u001b[0m \u001b[0;31m# Edit nilai\u001b[0m\u001b[0;34m\u001b[0m\u001b[0;34m\u001b[0m\u001b[0;34m\u001b[0m\u001b[0m\n\u001b[0;32m----> 2\u001b[0;31m \u001b[0mmyTup\u001b[0m\u001b[0;34m[\u001b[0m\u001b[0;36m1\u001b[0m\u001b[0;34m]\u001b[0m \u001b[0;34m=\u001b[0m \u001b[0;34m'Gunung Fuji'\u001b[0m\u001b[0;34m\u001b[0m\u001b[0;34m\u001b[0m\u001b[0m\n\u001b[0m",
      "\u001b[0;31mTypeError\u001b[0m: 'tuple' object does not support item assignment"
     ]
    }
   ],
   "source": [
    "# Edit nilai\n",
    "myTup[1] = 'Gunung Fuji'"
   ]
  },
  {
   "source": [
    "### *args"
   ],
   "cell_type": "markdown",
   "metadata": {}
  },
  {
   "cell_type": "code",
   "execution_count": 175,
   "metadata": {},
   "outputs": [
    {
     "output_type": "stream",
     "name": "stdout",
     "text": [
      "Halo, Selamat Pagi\n"
     ]
    }
   ],
   "source": [
    "def yourFun(*ucapan):\n",
    "    input_jam = int(input(\"Masukkan pukul berapa sekarang! \"))\n",
    "    while (input_jam > 5 and input_jam <= 11):\n",
    "        print(ucapan[0], ucapan[1], sep=', ')\n",
    "        break\n",
    "    while (input_jam > 11 and input_jam <= 15):\n",
    "        print(ucapan[0], ucapan[2], sep=', ')\n",
    "        break\n",
    "    while (input_jam > 15 and input_jam <= 19):\n",
    "        print(ucapan[0], ucapan[3], sep=', ')\n",
    "        break\n",
    "    while (input_jam > 19 and input_jam < 24):\n",
    "        print(ucapan[0], ucapan[4])\n",
    "        break\n",
    "\n",
    "yourFun(\"Halo\", \"Selamat Pagi\", \"Selamat Siang\", \"Selamat Sore\", \"Selamat Malam\")"
   ]
  },
  {
   "source": [
    "## Set"
   ],
   "cell_type": "markdown",
   "metadata": {}
  },
  {
   "cell_type": "code",
   "execution_count": 177,
   "metadata": {},
   "outputs": [
    {
     "output_type": "stream",
     "name": "stdout",
     "text": [
      "<class 'set'>\n"
     ]
    }
   ],
   "source": [
    "mySet = {'Bangkok', 'Kuala Lumpur', 'Islandia', 'Skotlandia'}\n",
    "print(type(mySet))"
   ]
  },
  {
   "cell_type": "code",
   "execution_count": 181,
   "metadata": {},
   "outputs": [
    {
     "output_type": "stream",
     "name": "stdout",
     "text": [
      "{'Skotlandia', 'Islandia', 'Bangkok', 'Kuala Lumpur'}\n"
     ]
    }
   ],
   "source": [
    "print(mySet)"
   ]
  },
  {
   "cell_type": "code",
   "execution_count": 186,
   "metadata": {},
   "outputs": [
    {
     "output_type": "stream",
     "name": "stdout",
     "text": [
      "{'Kuala Lumpur', 'Skotlandia', 'Islandia', 'Bangkok', 'Hai'}\n"
     ]
    }
   ],
   "source": [
    "mySet.add(\"Hai\")\n",
    "print(mySet)"
   ]
  },
  {
   "cell_type": "code",
   "execution_count": 190,
   "metadata": {},
   "outputs": [],
   "source": [
    "mySet.remove(\"Hai\")"
   ]
  },
  {
   "cell_type": "code",
   "execution_count": 191,
   "metadata": {},
   "outputs": [
    {
     "output_type": "stream",
     "name": "stdout",
     "text": [
      "{'Kuala Lumpur', 'Skotlandia', 'Islandia', 'Bangkok'}\n"
     ]
    }
   ],
   "source": [
    "print(mySet)"
   ]
  },
  {
   "cell_type": "code",
   "execution_count": 197,
   "metadata": {},
   "outputs": [
    {
     "output_type": "stream",
     "name": "stdout",
     "text": [
      "{2, 3, 4, 5, 6, 7, 8}\n"
     ]
    }
   ],
   "source": [
    "myNum = {1,2,3,4,5,6,7,8,7,5,7,5,6,7,8,5,4,5,6,7,8,8,6,5,6,7,8}\n",
    "myNum2 = {2,4,5,7,5,3,5,6,8,9,7,5,2,4,5,7,8,8,6,4,3,6,7,5,4,3,2,4,7,8,9,0}\n",
    "\n",
    "print(myNum & myNum2)"
   ]
  },
  {
   "source": [],
   "cell_type": "markdown",
   "metadata": {}
  }
 ]
}