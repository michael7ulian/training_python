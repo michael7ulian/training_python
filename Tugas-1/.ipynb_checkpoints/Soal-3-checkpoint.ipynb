{
 "cells": [
  {
   "cell_type": "markdown",
   "metadata": {},
   "source": [
    "3.\n",
    "Buatlah sebuah program untuk menentukan apakah seorang siswa lulus ujian atau tidak. Siswa\n",
    "dinyatakan lulus apabila nilai ujian teori dan ujian praktek minimal 70.\n",
    "Program menerima input berupa nilai ujian teori dan praktek, nilai ujian dapat berupa bilangan\n",
    "desimal.\n",
    "\n",
    "\n",
    "\n",
    "Jika nilai ujian teori dan praktek minimal 70, maka program akan menampilkan:\n",
    "    \n",
    "Selamat, anda lulus!\n",
    "\n",
    "Jika nilai ujian teori minimal 70 dan nilai ujian praktek kurang dari 70:\n",
    "    \n",
    "Anda harus mengulang ujian praktek.\n",
    "\n",
    "Jika nilai ujian teori kurang dari 70 dan nilai ujian praktek minimal 70:\n",
    "    \n",
    "Anda harus mengulang ujian teori.\n",
    "\n",
    "Jika nilai ujian teori dan ujian praktek kurang dari 70:\n",
    "    \n",
    "Anda harus mengulang ujian teori dan praktek."
   ]
  },
  {
   "cell_type": "code",
   "execution_count": 10,
   "metadata": {},
   "outputs": [
    {
     "name": "stdout",
     "output_type": "stream",
     "text": [
      "Nilai ujian teori anda: 20\n",
      "Nilai ujian praktek anda: 60.9\n",
      "Anda harus mengulang ujian teori dan praktek.\n"
     ]
    }
   ],
   "source": [
    "teori = float(input(\"Nilai ujian teori anda: \"))\n",
    "praktek = float(input(\"Nilai ujian praktek anda: \"))\n",
    "\n",
    "if teori >= 70 and praktek >= 70:\n",
    "    print(\"Selamat, anda lulus!\")\n",
    "elif teori >= 70 and praktek < 70:\n",
    "    print(\"Anda harus mengulang ujian praktek.\")\n",
    "elif teori < 70 and praktek >= 70:\n",
    "    print(\"Anda harus mengulang ujian teori.\")\n",
    "else:\n",
    "    print(\"Anda harus mengulang ujian teori dan praktek.\")\n",
    "    \n"
   ]
  }
 ],
 "metadata": {
  "kernelspec": {
   "display_name": "Python 3",
   "language": "python",
   "name": "python3"
  },
  "language_info": {
   "codemirror_mode": {
    "name": "ipython",
    "version": 3
   },
   "file_extension": ".py",
   "mimetype": "text/x-python",
   "name": "python",
   "nbconvert_exporter": "python",
   "pygments_lexer": "ipython3",
   "version": "3.8.3"
  }
 },
 "nbformat": 4,
 "nbformat_minor": 4
}
