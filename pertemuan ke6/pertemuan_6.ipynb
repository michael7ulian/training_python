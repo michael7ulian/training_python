{
 "cells": [
  {
   "cell_type": "code",
   "execution_count": 8,
   "metadata": {},
   "outputs": [
    {
     "ename": "NameError",
     "evalue": "name 'self' is not defined",
     "output_type": "error",
     "traceback": [
      "\u001b[0;31m---------------------------------------------------------------------------\u001b[0m",
      "\u001b[0;31mNameError\u001b[0m                                 Traceback (most recent call last)",
      "\u001b[0;32m<ipython-input-8-6847a295b92b>\u001b[0m in \u001b[0;36m<module>\u001b[0;34m\u001b[0m\n\u001b[0;32m----> 1\u001b[0;31m \u001b[0;32mclass\u001b[0m \u001b[0mperkalian\u001b[0m\u001b[0;34m(\u001b[0m\u001b[0mself\u001b[0m\u001b[0;34m,\u001b[0m\u001b[0mangka1\u001b[0m\u001b[0;34m,\u001b[0m\u001b[0mangka2\u001b[0m\u001b[0;34m)\u001b[0m\u001b[0;34m:\u001b[0m\u001b[0;34m\u001b[0m\u001b[0;34m\u001b[0m\u001b[0m\n\u001b[0m\u001b[1;32m      2\u001b[0m     \u001b[0mself\u001b[0m\u001b[0;34m.\u001b[0m\u001b[0mangka1\u001b[0m\u001b[0;34m=\u001b[0m \u001b[0mangka1\u001b[0m\u001b[0;34m\u001b[0m\u001b[0;34m\u001b[0m\u001b[0m\n\u001b[1;32m      3\u001b[0m     \u001b[0mself\u001b[0m\u001b[0;34m.\u001b[0m\u001b[0mangka2\u001b[0m\u001b[0;34m=\u001b[0m \u001b[0mangka2\u001b[0m\u001b[0;34m\u001b[0m\u001b[0;34m\u001b[0m\u001b[0m\n\u001b[1;32m      4\u001b[0m     \u001b[0;32mdef\u001b[0m \u001b[0mmate\u001b[0m\u001b[0;34m(\u001b[0m\u001b[0mself\u001b[0m\u001b[0;34m)\u001b[0m\u001b[0;34m:\u001b[0m\u001b[0;34m\u001b[0m\u001b[0;34m\u001b[0m\u001b[0m\n\u001b[1;32m      5\u001b[0m         \u001b[0mhasilkali\u001b[0m \u001b[0;34m=\u001b[0m \u001b[0mself\u001b[0m\u001b[0;34m.\u001b[0m\u001b[0mangka1\u001b[0m\u001b[0;34m*\u001b[0m\u001b[0mself\u001b[0m\u001b[0;34m.\u001b[0m\u001b[0mangka2\u001b[0m\u001b[0;34m\u001b[0m\u001b[0;34m\u001b[0m\u001b[0m\n",
      "\u001b[0;31mNameError\u001b[0m: name 'self' is not defined"
     ]
    }
   ],
   "source": [
    "class perkalian(self,angka1,angka2):\n",
    "    self.angka1= angka1\n",
    "    self.angka2= angka2 \n",
    "    def mate(self):\n",
    "        hasilkali = self.angka1*self.angka2\n",
    "        hasiltambah = self.angka1+self.angka2\n",
    "        return hasilkali, hasiltambah\n",
    "    \n",
    "per = perkalian(1,3)\n",
    "per.mate()[0]"
   ]
  },
  {
   "cell_type": "code",
   "execution_count": 5,
   "metadata": {},
   "outputs": [
    {
     "name": "stdout",
     "output_type": "stream",
     "text": [
      "halo namaku: michael\n",
      "namamu siapa?\n",
      "halo namaku: dodi\n",
      "senang bertemu denganmu. sampai jumpa kebali\n"
     ]
    }
   ],
   "source": [
    "class person:\n",
    "    def __init__(self,name,age,nama_lawan):\n",
    "        self.name = name\n",
    "        self.age = age\n",
    "        self.nama_lawan = nama_lawan\n",
    "        \n",
    "    def sapa(self):\n",
    "        print(\"halo namaku: \"+self.name)\n",
    "        print(\"namamu siapa?\")\n",
    "        \n",
    "    def salamkenal(self):\n",
    "        print(\"halo namaku: \"+self.nama_lawan)\n",
    "        print(\"senang bertemu denganmu. sampai jumpa kebali\")\n",
    "        \n",
    "p3 = person(\"michael\",23,\"dodi\")\n",
    "p3.sapa()\n",
    "p3.salamkenal()\n",
    "        \n",
    "# p1  = person(\"hafi\",21)\n",
    "# p2  = person(\"dodi\",23)\n",
    "\n",
    "\n",
    "# print(p1.name)\n",
    "# print(p1.age)\n",
    "\n",
    "\n",
    "# print(p2.name)\n",
    "# print(p2.age)"
   ]
  }
 ],
 "metadata": {
  "kernelspec": {
   "display_name": "Python 3",
   "language": "python",
   "name": "python3"
  },
  "language_info": {
   "codemirror_mode": {
    "name": "ipython",
    "version": 3
   },
   "file_extension": ".py",
   "mimetype": "text/x-python",
   "name": "python",
   "nbconvert_exporter": "python",
   "pygments_lexer": "ipython3",
   "version": "3.8.3"
  }
 },
 "nbformat": 4,
 "nbformat_minor": 4
}
