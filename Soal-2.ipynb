{
 "cells": [
  {
   "cell_type": "markdown",
   "metadata": {},
   "source": [
    "2. Buatlah sebuah program yang dapat menghitung luas lingkaran.\n",
    "Program meminta input dari user berupa angka sebagai jari-jari lingkaran.\n",
    "\n",
    "Program menghitung luas lingkaran dengan rumus πr²\n",
    "\n",
    "Π = 22/7\n",
    "\n",
    "r = jari - jari lingkaran\n",
    "\n",
    "Lalu tampilkan ke layar dengan format:\n",
    "\n",
    "Hint: untuk menampilkan tanda kuadrat gunakan print(“\\u00b2”)\n",
    "\n",
    "Bonus: Ubahlah format luas menjadi 2 angka dibelakang koma\n",
    "\n",
    "Hint: Ubah string format untuk float menjadi {:.2f}\n",
    "\n",
    "Luas lingkaran dengan jari-jari 10 cm adalah 314.29 cm²."
   ]
  },
  {
   "cell_type": "code",
   "execution_count": 13,
   "metadata": {},
   "outputs": [
    {
     "name": "stdout",
     "output_type": "stream",
     "text": [
      "masukan jari-jari lingkaran: 10\n",
      "Luas lingkaran dengan jari-jari 10 cm adalah 314.29 cm²\n"
     ]
    }
   ],
   "source": [
    "pi = 22/7\n",
    "r = int(input(\"masukan jari-jari lingkaran: \"))\n",
    "luas_lingkaran = pi*r*r\n",
    "print(f\"Luas lingkaran dengan jari-jari {r} cm adalah {'{0:.2f}'.format(luas_lingkaran)} cm\\u00b2\")"
   ]
  }
 ],
 "metadata": {
  "kernelspec": {
   "display_name": "Python 3",
   "language": "python",
   "name": "python3"
  },
  "language_info": {
   "codemirror_mode": {
    "name": "ipython",
    "version": 3
   },
   "file_extension": ".py",
   "mimetype": "text/x-python",
   "name": "python",
   "nbconvert_exporter": "python",
   "pygments_lexer": "ipython3",
   "version": "3.8.3"
  }
 },
 "nbformat": 4,
 "nbformat_minor": 4
}
